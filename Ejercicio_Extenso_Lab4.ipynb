{
  "nbformat": 4,
  "nbformat_minor": 0,
  "metadata": {
    "colab": {
      "provenance": [],
      "authorship_tag": "ABX9TyNz0Ye3J0RL1E8TYX/Ehg1u",
      "include_colab_link": true
    },
    "kernelspec": {
      "name": "python3",
      "display_name": "Python 3"
    },
    "language_info": {
      "name": "python"
    }
  },
  "cells": [
    {
      "cell_type": "markdown",
      "metadata": {
        "id": "view-in-github",
        "colab_type": "text"
      },
      "source": [
        "<a href=\"https://colab.research.google.com/github/Christopher-Ramirez-S/An-lisis-de-datos/blob/Adrian/Ejercicio_Extenso_Lab4.ipynb\" target=\"_parent\"><img src=\"https://colab.research.google.com/assets/colab-badge.svg\" alt=\"Open In Colab\"/></a>"
      ]
    },
    {
      "cell_type": "code",
      "execution_count": 3,
      "metadata": {
        "colab": {
          "base_uri": "https://localhost:8080/"
        },
        "id": "uQDepwt2MaaQ",
        "outputId": "2985d179-a3b5-4be7-88d1-62b23c731007"
      },
      "outputs": [
        {
          "output_type": "stream",
          "name": "stdout",
          "text": [
            "Nivel de Obesidad por Genero:\n",
            "                     Numero de Mujeres  Numero de Hombres\n",
            "NObeyesdad                                               \n",
            "Insufficient_Weight                173                 99\n",
            "Normal_Weight                      141                146\n",
            "Obesity_Type_I                     156                195\n",
            "Obesity_Type_II                      2                295\n",
            "Obesity_Type_III                   323                  1\n",
            "Overweight_Level_I                 145                145\n",
            "Overweight_Level_II                103                187\n"
          ]
        }
      ],
      "source": [
        "#Nivel de obesidad por genero (cantidad hombres y cantidad mujeres)\n",
        "import pandas as pd\n",
        "\n",
        "df=pd.read_csv('Obesity.csv')\n",
        "\n",
        "registro_general = df.loc[(df['Gender'].isin(['Male', 'Female'])) & (df['NObeyesdad'].notnull())]\n",
        "\n",
        "conteo_obesidad_genero = registro_general.groupby(['NObeyesdad', 'Gender']).size().unstack(fill_value=0)\n",
        "\n",
        "conteo_obesidad_genero.columns = ['Numero de Mujeres', 'Numero de Hombres']\n",
        "\n",
        "print(\"Nivel de Obesidad por Genero:\")\n",
        "print(conteo_obesidad_genero)\n"
      ]
    },
    {
      "cell_type": "code",
      "source": [
        "#Promedio del peso por nivel de obesidad y genero\n",
        "import pandas as pd\n",
        "\n",
        "df=pd.read_csv('Obesity.csv')\n",
        "\n",
        "registro_general=df.loc[(df['Gender'].isin(['Male','Female']))&(df['NObeyesdad'].notnull())]\n",
        "\n",
        "promedio_peso_obesidad_genero = registro_general.groupby(['NObeyesdad','Gender'])['Weight'].mean().unstack(fill_value=0)\n",
        "\n",
        "promedio_peso_obesidad_genero = promedio_peso_obesidad_genero.round(2)\n",
        "\n",
        "promedio_peso_obesidad_genero.columns = ['Promedio de Peso Mujeres', 'Promedio de Peso Hombres']\n",
        "\n",
        "\n",
        "print(promedio_peso_obesidad_genero)\n",
        "\n",
        "\n"
      ],
      "metadata": {
        "colab": {
          "base_uri": "https://localhost:8080/"
        },
        "id": "8RqBIFWMPoGw",
        "outputId": "62bec67e-836c-4223-96da-0a5b1b8a2ca3"
      },
      "execution_count": 4,
      "outputs": [
        {
          "output_type": "stream",
          "name": "stdout",
          "text": [
            "                     Promedio de Peso Mujeres  Promedio de Peso Hombres\n",
            "NObeyesdad                                                             \n",
            "Insufficient_Weight                     46.69                     55.53\n",
            "Normal_Weight                           56.42                     67.70\n",
            "Obesity_Type_I                          82.29                    101.33\n",
            "Obesity_Type_II                         96.75                    115.43\n",
            "Obesity_Type_III                       120.78                    173.00\n",
            "Overweight_Level_I                      69.58                     78.95\n",
            "Overweight_Level_II                     74.54                     86.24\n"
          ]
        }
      ]
    },
    {
      "cell_type": "code",
      "source": [
        "import pandas as pd\n",
        "\n",
        "df=pd.read_csv('Obesity.csv')\n",
        "\n",
        "historial_familiar = df[df['family_history_with_overweight']== 'yes']\n",
        "\n",
        "total_historial_familiar = len(historial_familiar)\n",
        "\n",
        "porcentaje_obesidad = (historial_familiar['NObeyesdad'].value_counts()/ total_historial_familiar) * 100\n",
        "\n",
        "porcentaje_obesidad_df = porcentaje_obesidad.reset_index()\n",
        "\n",
        "porcentaje_obesidad_df.columns = ['Nivel de Obesidad', 'Porcentaje']\n",
        "\n",
        "print(\"Porcentaje de Niveles de Obesidad con Historial Familiar de Obesidad:\")\n",
        "print(porcentaje_obesidad_df)"
      ],
      "metadata": {
        "colab": {
          "base_uri": "https://localhost:8080/"
        },
        "id": "3lhzgJyqT3kx",
        "outputId": "cb0ed5ad-0c86-43ee-b234-349a07cd6271"
      },
      "execution_count": 6,
      "outputs": [
        {
          "output_type": "stream",
          "name": "stdout",
          "text": [
            "Porcentaje de Niveles de Obesidad con Historial Familiar de Obesidad:\n",
            "     Nivel de Obesidad  Porcentaje\n",
            "0       Obesity_Type_I   19.930475\n",
            "1     Obesity_Type_III   18.771727\n",
            "2      Obesity_Type_II   17.149479\n",
            "3  Overweight_Level_II   15.758980\n",
            "4   Overweight_Level_I   12.108922\n",
            "5        Normal_Weight    8.980301\n",
            "6  Insufficient_Weight    7.300116\n"
          ]
        }
      ]
    },
    {
      "cell_type": "code",
      "source": [
        "#5 personas con mayor nivel de obesidad en base al peso\n",
        "import pandas as pd\n",
        "import matplotlib.pyplot as plt\n",
        "\n",
        "df=pd.read_csv('Obesity.csv')\n",
        "\n",
        "data = pd.DataFrame(df)\n",
        "\n",
        "dataFiltered = data[['Gender','NObeyesdad','Weight']]\n",
        "\n",
        "dataFiltered = dataFiltered.sort_values('Weight', ascending=False)\n",
        "\n",
        "print(dataFiltered.head(5))"
      ],
      "metadata": {
        "colab": {
          "base_uri": "https://localhost:8080/"
        },
        "id": "MZocJh0ZXdMw",
        "outputId": "f15bff36-eb46-4de8-8b11-7ad219278f0b"
      },
      "execution_count": 7,
      "outputs": [
        {
          "output_type": "stream",
          "name": "stdout",
          "text": [
            "      Gender        NObeyesdad      Weight\n",
            "344     Male  Obesity_Type_III  173.000000\n",
            "502   Female  Obesity_Type_III  165.057269\n",
            "1898  Female  Obesity_Type_III  160.935351\n",
            "1910  Female  Obesity_Type_III  160.639405\n",
            "1838  Female  Obesity_Type_III  155.872093\n"
          ]
        }
      ]
    },
    {
      "cell_type": "code",
      "source": [
        "import pandas as pd\n",
        "\n",
        "df=pd.read_csv('Obesity.csv')\n",
        "\n",
        "obesity_levels = ['Insufficient_Weight','Normal_Weight', 'Overweight_Level_I', 'Overweight_Level_II', 'Obesity_Type_I', 'Obesity_Type_II', 'Obesity_Type_III']\n",
        "\n",
        "df['NObeyesdad'] = pd.Categorical(df['NObeyesdad'], categories=obesity_levels, ordered=True)\n",
        "\n",
        "promedio_consumo_agua = df.groupby(['NObeyesdad'])['FAF'].mean()\n",
        "\n",
        "print(\"Promedio de Cantidad de Ejercicio por Nivel de Obesidad:\")\n",
        "print(promedio_consumo_agua)\n"
      ],
      "metadata": {
        "colab": {
          "base_uri": "https://localhost:8080/"
        },
        "id": "zb_o9xUMaDgv",
        "outputId": "e864d77a-0e95-4c03-bffc-243838d8f933"
      },
      "execution_count": 8,
      "outputs": [
        {
          "output_type": "stream",
          "name": "stdout",
          "text": [
            "Promedio de Cantidad de Ejercicio por Nivel de Obesidad:\n",
            "NObeyesdad\n",
            "Insufficient_Weight    1.250131\n",
            "Normal_Weight          1.247387\n",
            "Overweight_Level_I     1.056796\n",
            "Overweight_Level_II    0.958072\n",
            "Obesity_Type_I         0.986748\n",
            "Obesity_Type_II        0.971857\n",
            "Obesity_Type_III       0.664817\n",
            "Name: FAF, dtype: float64\n"
          ]
        },
        {
          "output_type": "stream",
          "name": "stderr",
          "text": [
            "<ipython-input-8-f6695d9bb18e>:9: FutureWarning: The default of observed=False is deprecated and will be changed to True in a future version of pandas. Pass observed=False to retain current behavior or observed=True to adopt the future default and silence this warning.\n",
            "  promedio_consumo_agua = df.groupby(['NObeyesdad'])['FAF'].mean()\n"
          ]
        }
      ]
    },
    {
      "cell_type": "markdown",
      "source": [
        "Ejercicio Aplicado al dataset del proyecto\n"
      ],
      "metadata": {
        "id": "IRZoFpojpRbI"
      }
    },
    {
      "cell_type": "code",
      "source": [
        "import requests\n",
        "import json\n",
        "import concurrent.futures\n",
        "import threading\n",
        "import time\n",
        "import logging\n",
        "import os\n",
        "from tqdm import tqdm\n",
        "import datetime\n",
        "import pandas as pd\n",
        "import csv\n",
        "import subprocess\n",
        "import matplotlib.pyplot as plt\n",
        "import seaborn as sns"
      ],
      "metadata": {
        "id": "0yPCvoYgoW1g"
      },
      "execution_count": 9,
      "outputs": []
    },
    {
      "cell_type": "code",
      "source": [
        "df = pd.read_csv('/content/TMDB_movie_dataset_v11.csv')\n",
        "data = pd.DataFrame(df)"
      ],
      "metadata": {
        "id": "E2bltQXhoY64"
      },
      "execution_count": 11,
      "outputs": []
    },
    {
      "cell_type": "code",
      "source": [
        "peliculas_HarryP = [\n",
        "    \"Harry Potter and the Philosopher's Stone\",\n",
        "    'Harry Potter and the Chamber of Secrets',\n",
        "    'Harry Potter and the Prisoner of Azkaban',\n",
        "    'Harry Potter and the Goblet of Fire',\n",
        "    'Harry Potter and the Order of the Phoenix',\n",
        "    'Harry Potter and the Half-Blood Prince',\n",
        "]\n",
        "pelicula_votos = df[df['title'].isin(peliculas_HarryP)][['title', 'vote_count']].loc[df[df['title'].isin(peliculas_HarryP)]['vote_count'].notnull()]\n",
        "print(\"Votos de las peliculas de Harry Potter:\")\n",
        "print(pelicula_votos)"
      ],
      "metadata": {
        "colab": {
          "base_uri": "https://localhost:8080/"
        },
        "id": "UPhrRtnQqfa4",
        "outputId": "f2ec7998-49ea-4f11-8430-57c68fa730f6"
      },
      "execution_count": 22,
      "outputs": [
        {
          "output_type": "stream",
          "name": "stdout",
          "text": [
            "Votos de las peliculas de Harry Potter:\n",
            "                                        title  vote_count\n",
            "11   Harry Potter and the Philosopher's Stone       25379\n",
            "33    Harry Potter and the Chamber of Secrets       20390\n",
            "38   Harry Potter and the Prisoner of Azkaban       20038\n",
            "46        Harry Potter and the Goblet of Fire       19287\n",
            "58  Harry Potter and the Order of the Phoenix       18177\n",
            "59     Harry Potter and the Half-Blood Prince       18127\n"
          ]
        }
      ]
    }
  ]
}