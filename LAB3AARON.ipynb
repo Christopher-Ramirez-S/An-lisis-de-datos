{
  "nbformat": 4,
  "nbformat_minor": 0,
  "metadata": {
    "colab": {
      "provenance": [],
      "authorship_tag": "ABX9TyOEyn3+gfXoQvZLRINaY4xU",
      "include_colab_link": true
    },
    "kernelspec": {
      "name": "python3",
      "display_name": "Python 3"
    },
    "language_info": {
      "name": "python"
    }
  },
  "cells": [
    {
      "cell_type": "markdown",
      "metadata": {
        "id": "view-in-github",
        "colab_type": "text"
      },
      "source": [
        "<a href=\"https://colab.research.google.com/github/Christopher-Ramirez-S/An-lisis-de-datos/blob/Aaron/LAB3AARON.ipynb\" target=\"_parent\"><img src=\"https://colab.research.google.com/assets/colab-badge.svg\" alt=\"Open In Colab\"/></a>"
      ]
    },
    {
      "cell_type": "code",
      "execution_count": null,
      "metadata": {
        "id": "eMNe3rPnPTPQ"
      },
      "outputs": [],
      "source": [
        "import requests\n",
        "import json\n",
        "import concurrent.futures\n",
        "import threading\n",
        "import time\n",
        "import logging\n",
        "import os\n",
        "from tqdm import tqdm\n",
        "import datetime\n",
        "import pandas as pd\n",
        "import csv\n",
        "import subprocess\n",
        "import matplotlib.pyplot as plt\n",
        "import seaborn as sns\n",
        "\n",
        "\n",
        "# Try to read the file, handling potential errors\n",
        "try:\n",
        "    df = pd.read_csv('/content/TMDB_movie_dataset_v11.csv')\n",
        "    data = pd.DataFrame(df)\n",
        "except pd.errors.ParserError as e:\n",
        "    print(f\"An error occurred while reading the CSV file: {e}\")\n",
        "    # You might want to add more specific error handling or logging here\n",
        "\n",
        "def get_oldest() -> int:\n",
        "    global data # Declare 'data' as a global variable within the function\n",
        "\n",
        "    # Get the 'id' value of the last row in the sorted DataFrame\n",
        "    data.sort_values(['id'],inplace=True) # Use 'data' instead of 'dataset_df'\n",
        "    last_id = data.iloc[-1]['id']\n",
        "\n",
        "    return last_id # Correct indentation for the return statement\n",
        "\n",
        "print(get_oldest())\n",
        "start_date = pd.to_datetime('1910-01-01')\n",
        "end_date = pd.to_datetime('2024-12-31')\n",
        "\n",
        "# Convert 'release_date' column to datetime objects\n",
        "data['release_date'] = pd.to_datetime(data['release_date'], errors='coerce') # Handle potential errors during conversion\n",
        "\n",
        "filtered_data = data[(data['release_date'] >= start_date) & (data['release_date'] <= end_date) & (data['vote_count'] > 10)]\n",
        "filtered_data = filtered_data.sort_values(by='vote_average', ascending=False)\n",
        "filtered_data = filtered_data.head(10)\n",
        "\n",
        "print(filtered_data)\n",
        "def getMayorbudged():\n",
        "\n",
        "    max_budget_movie = data.loc[data['budget'].idxmax()]\n",
        "    return max_budget_movie[['title', 'budget']]\n",
        "print(getMayorbudged())\n",
        "def getMayorrevenue():\n",
        "\n",
        "    max_revenue_movie = data.loc[data['revenue'].idxmax()]\n",
        "    return max_revenue_movie[['title', 'revenue']]\n",
        "print(getMayorrevenue())\n",
        "def getMayorruntime():\n",
        "\n",
        "    max_runtime_movie = data.loc[data['runtime'].idxmax()]\n",
        "    return max_runtime_movie[['title', 'runtime']]\n",
        "print(getMayorruntime())\n",
        "def getMayorpopularity():\n",
        "\n",
        "    max_popularity_movie = data.loc[data['popularity'].idxmax()]\n",
        "    return max_popularity_movie[['title', 'popularity']]\n",
        "print(getMayorpopularity())\n",
        "def getMayorvoteaverage():\n",
        "\n",
        "    max_vote_average_movie = data.loc[data['vote_average'].idxmax()]\n",
        "    return max_vote_average_movie[['title', 'vote_average']]\n",
        "print(getMayorvoteaverage())\n",
        "\n"
      ]
    },
    {
      "cell_type": "code",
      "source": [
        "costa_rica_2017_movies = data[(data['production_countries'] == \"Costa Rica\") & (data['release_date'].dt.year == 2017)][['title', 'revenue', 'budget']].head(1)\n",
        "print(costa_rica_2017_movies)"
      ],
      "metadata": {
        "colab": {
          "base_uri": "https://localhost:8080/"
        },
        "id": "UVjoLTd3qKIA",
        "outputId": "8c4314be-7961-4a5b-adab-1c894e814b02"
      },
      "execution_count": 53,
      "outputs": [
        {
          "output_type": "stream",
          "name": "stdout",
          "text": [
            "                          title  revenue  budget\n",
            "144192  The Heat After the Rain        0       0\n"
          ]
        }
      ]
    }
  ]
}